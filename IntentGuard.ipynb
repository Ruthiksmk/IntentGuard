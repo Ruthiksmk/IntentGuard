{
  "nbformat": 4,
  "nbformat_minor": 0,
  "metadata": {
    "colab": {
      "provenance": [],
      "gpuType": "T4"
    },
    "kernelspec": {
      "name": "python3",
      "display_name": "Python 3"
    },
    "language_info": {
      "name": "python"
    },
    "accelerator": "GPU",
    "widgets": {
      "application/vnd.jupyter.widget-state+json": {
        "c191b9baa9aa4fa48fb45a2ddf24a44d": {
          "model_module": "@jupyter-widgets/controls",
          "model_name": "HBoxModel",
          "model_module_version": "1.5.0",
          "state": {
            "_dom_classes": [],
            "_model_module": "@jupyter-widgets/controls",
            "_model_module_version": "1.5.0",
            "_model_name": "HBoxModel",
            "_view_count": null,
            "_view_module": "@jupyter-widgets/controls",
            "_view_module_version": "1.5.0",
            "_view_name": "HBoxView",
            "box_style": "",
            "children": [
              "IPY_MODEL_1a76358bedf84fe383143c523ae4eb92",
              "IPY_MODEL_b5987be4da17436fa861dafa521e919b",
              "IPY_MODEL_7ffcf9f9262441d8a246ebbd60157801"
            ],
            "layout": "IPY_MODEL_0e6effdb53df4f1f84f4f15174eecf43"
          }
        },
        "1a76358bedf84fe383143c523ae4eb92": {
          "model_module": "@jupyter-widgets/controls",
          "model_name": "HTMLModel",
          "model_module_version": "1.5.0",
          "state": {
            "_dom_classes": [],
            "_model_module": "@jupyter-widgets/controls",
            "_model_module_version": "1.5.0",
            "_model_name": "HTMLModel",
            "_view_count": null,
            "_view_module": "@jupyter-widgets/controls",
            "_view_module_version": "1.5.0",
            "_view_name": "HTMLView",
            "description": "",
            "description_tooltip": null,
            "layout": "IPY_MODEL_ddae77ef67844ffa9103cd5312ef590a",
            "placeholder": "​",
            "style": "IPY_MODEL_7a641abe2858465998cc405f98b1429c",
            "value": "Batches: 100%"
          }
        },
        "b5987be4da17436fa861dafa521e919b": {
          "model_module": "@jupyter-widgets/controls",
          "model_name": "FloatProgressModel",
          "model_module_version": "1.5.0",
          "state": {
            "_dom_classes": [],
            "_model_module": "@jupyter-widgets/controls",
            "_model_module_version": "1.5.0",
            "_model_name": "FloatProgressModel",
            "_view_count": null,
            "_view_module": "@jupyter-widgets/controls",
            "_view_module_version": "1.5.0",
            "_view_name": "ProgressView",
            "bar_style": "success",
            "description": "",
            "description_tooltip": null,
            "layout": "IPY_MODEL_7150d42753ea49649dc67f63ee88adae",
            "max": 32,
            "min": 0,
            "orientation": "horizontal",
            "style": "IPY_MODEL_fe6da2bf7630430db58db3800b482ed1",
            "value": 32
          }
        },
        "7ffcf9f9262441d8a246ebbd60157801": {
          "model_module": "@jupyter-widgets/controls",
          "model_name": "HTMLModel",
          "model_module_version": "1.5.0",
          "state": {
            "_dom_classes": [],
            "_model_module": "@jupyter-widgets/controls",
            "_model_module_version": "1.5.0",
            "_model_name": "HTMLModel",
            "_view_count": null,
            "_view_module": "@jupyter-widgets/controls",
            "_view_module_version": "1.5.0",
            "_view_name": "HTMLView",
            "description": "",
            "description_tooltip": null,
            "layout": "IPY_MODEL_87f39405369e42d19a0fb154ab7a6029",
            "placeholder": "​",
            "style": "IPY_MODEL_bc07a6aa76b44331b2f5ef20276ea203",
            "value": " 32/32 [00:00&lt;00:00, 116.62it/s]"
          }
        },
        "0e6effdb53df4f1f84f4f15174eecf43": {
          "model_module": "@jupyter-widgets/base",
          "model_name": "LayoutModel",
          "model_module_version": "1.2.0",
          "state": {
            "_model_module": "@jupyter-widgets/base",
            "_model_module_version": "1.2.0",
            "_model_name": "LayoutModel",
            "_view_count": null,
            "_view_module": "@jupyter-widgets/base",
            "_view_module_version": "1.2.0",
            "_view_name": "LayoutView",
            "align_content": null,
            "align_items": null,
            "align_self": null,
            "border": null,
            "bottom": null,
            "display": null,
            "flex": null,
            "flex_flow": null,
            "grid_area": null,
            "grid_auto_columns": null,
            "grid_auto_flow": null,
            "grid_auto_rows": null,
            "grid_column": null,
            "grid_gap": null,
            "grid_row": null,
            "grid_template_areas": null,
            "grid_template_columns": null,
            "grid_template_rows": null,
            "height": null,
            "justify_content": null,
            "justify_items": null,
            "left": null,
            "margin": null,
            "max_height": null,
            "max_width": null,
            "min_height": null,
            "min_width": null,
            "object_fit": null,
            "object_position": null,
            "order": null,
            "overflow": null,
            "overflow_x": null,
            "overflow_y": null,
            "padding": null,
            "right": null,
            "top": null,
            "visibility": null,
            "width": null
          }
        },
        "ddae77ef67844ffa9103cd5312ef590a": {
          "model_module": "@jupyter-widgets/base",
          "model_name": "LayoutModel",
          "model_module_version": "1.2.0",
          "state": {
            "_model_module": "@jupyter-widgets/base",
            "_model_module_version": "1.2.0",
            "_model_name": "LayoutModel",
            "_view_count": null,
            "_view_module": "@jupyter-widgets/base",
            "_view_module_version": "1.2.0",
            "_view_name": "LayoutView",
            "align_content": null,
            "align_items": null,
            "align_self": null,
            "border": null,
            "bottom": null,
            "display": null,
            "flex": null,
            "flex_flow": null,
            "grid_area": null,
            "grid_auto_columns": null,
            "grid_auto_flow": null,
            "grid_auto_rows": null,
            "grid_column": null,
            "grid_gap": null,
            "grid_row": null,
            "grid_template_areas": null,
            "grid_template_columns": null,
            "grid_template_rows": null,
            "height": null,
            "justify_content": null,
            "justify_items": null,
            "left": null,
            "margin": null,
            "max_height": null,
            "max_width": null,
            "min_height": null,
            "min_width": null,
            "object_fit": null,
            "object_position": null,
            "order": null,
            "overflow": null,
            "overflow_x": null,
            "overflow_y": null,
            "padding": null,
            "right": null,
            "top": null,
            "visibility": null,
            "width": null
          }
        },
        "7a641abe2858465998cc405f98b1429c": {
          "model_module": "@jupyter-widgets/controls",
          "model_name": "DescriptionStyleModel",
          "model_module_version": "1.5.0",
          "state": {
            "_model_module": "@jupyter-widgets/controls",
            "_model_module_version": "1.5.0",
            "_model_name": "DescriptionStyleModel",
            "_view_count": null,
            "_view_module": "@jupyter-widgets/base",
            "_view_module_version": "1.2.0",
            "_view_name": "StyleView",
            "description_width": ""
          }
        },
        "7150d42753ea49649dc67f63ee88adae": {
          "model_module": "@jupyter-widgets/base",
          "model_name": "LayoutModel",
          "model_module_version": "1.2.0",
          "state": {
            "_model_module": "@jupyter-widgets/base",
            "_model_module_version": "1.2.0",
            "_model_name": "LayoutModel",
            "_view_count": null,
            "_view_module": "@jupyter-widgets/base",
            "_view_module_version": "1.2.0",
            "_view_name": "LayoutView",
            "align_content": null,
            "align_items": null,
            "align_self": null,
            "border": null,
            "bottom": null,
            "display": null,
            "flex": null,
            "flex_flow": null,
            "grid_area": null,
            "grid_auto_columns": null,
            "grid_auto_flow": null,
            "grid_auto_rows": null,
            "grid_column": null,
            "grid_gap": null,
            "grid_row": null,
            "grid_template_areas": null,
            "grid_template_columns": null,
            "grid_template_rows": null,
            "height": null,
            "justify_content": null,
            "justify_items": null,
            "left": null,
            "margin": null,
            "max_height": null,
            "max_width": null,
            "min_height": null,
            "min_width": null,
            "object_fit": null,
            "object_position": null,
            "order": null,
            "overflow": null,
            "overflow_x": null,
            "overflow_y": null,
            "padding": null,
            "right": null,
            "top": null,
            "visibility": null,
            "width": null
          }
        },
        "fe6da2bf7630430db58db3800b482ed1": {
          "model_module": "@jupyter-widgets/controls",
          "model_name": "ProgressStyleModel",
          "model_module_version": "1.5.0",
          "state": {
            "_model_module": "@jupyter-widgets/controls",
            "_model_module_version": "1.5.0",
            "_model_name": "ProgressStyleModel",
            "_view_count": null,
            "_view_module": "@jupyter-widgets/base",
            "_view_module_version": "1.2.0",
            "_view_name": "StyleView",
            "bar_color": null,
            "description_width": ""
          }
        },
        "87f39405369e42d19a0fb154ab7a6029": {
          "model_module": "@jupyter-widgets/base",
          "model_name": "LayoutModel",
          "model_module_version": "1.2.0",
          "state": {
            "_model_module": "@jupyter-widgets/base",
            "_model_module_version": "1.2.0",
            "_model_name": "LayoutModel",
            "_view_count": null,
            "_view_module": "@jupyter-widgets/base",
            "_view_module_version": "1.2.0",
            "_view_name": "LayoutView",
            "align_content": null,
            "align_items": null,
            "align_self": null,
            "border": null,
            "bottom": null,
            "display": null,
            "flex": null,
            "flex_flow": null,
            "grid_area": null,
            "grid_auto_columns": null,
            "grid_auto_flow": null,
            "grid_auto_rows": null,
            "grid_column": null,
            "grid_gap": null,
            "grid_row": null,
            "grid_template_areas": null,
            "grid_template_columns": null,
            "grid_template_rows": null,
            "height": null,
            "justify_content": null,
            "justify_items": null,
            "left": null,
            "margin": null,
            "max_height": null,
            "max_width": null,
            "min_height": null,
            "min_width": null,
            "object_fit": null,
            "object_position": null,
            "order": null,
            "overflow": null,
            "overflow_x": null,
            "overflow_y": null,
            "padding": null,
            "right": null,
            "top": null,
            "visibility": null,
            "width": null
          }
        },
        "bc07a6aa76b44331b2f5ef20276ea203": {
          "model_module": "@jupyter-widgets/controls",
          "model_name": "DescriptionStyleModel",
          "model_module_version": "1.5.0",
          "state": {
            "_model_module": "@jupyter-widgets/controls",
            "_model_module_version": "1.5.0",
            "_model_name": "DescriptionStyleModel",
            "_view_count": null,
            "_view_module": "@jupyter-widgets/base",
            "_view_module_version": "1.2.0",
            "_view_name": "StyleView",
            "description_width": ""
          }
        },
        "f8c69fcf8e2c4cc4a18b8dca3197007d": {
          "model_module": "@jupyter-widgets/controls",
          "model_name": "HBoxModel",
          "model_module_version": "1.5.0",
          "state": {
            "_dom_classes": [],
            "_model_module": "@jupyter-widgets/controls",
            "_model_module_version": "1.5.0",
            "_model_name": "HBoxModel",
            "_view_count": null,
            "_view_module": "@jupyter-widgets/controls",
            "_view_module_version": "1.5.0",
            "_view_name": "HBoxView",
            "box_style": "",
            "children": [
              "IPY_MODEL_5733f39ee90646cca2942452e192836b",
              "IPY_MODEL_2df0c393e79140e3a19c5ced6c213e3f",
              "IPY_MODEL_e6f38d8d51474fd5b85f22e2f567f0da"
            ],
            "layout": "IPY_MODEL_9a7a2e64e2794ba7af42ca7d833014a7"
          }
        },
        "5733f39ee90646cca2942452e192836b": {
          "model_module": "@jupyter-widgets/controls",
          "model_name": "HTMLModel",
          "model_module_version": "1.5.0",
          "state": {
            "_dom_classes": [],
            "_model_module": "@jupyter-widgets/controls",
            "_model_module_version": "1.5.0",
            "_model_name": "HTMLModel",
            "_view_count": null,
            "_view_module": "@jupyter-widgets/controls",
            "_view_module_version": "1.5.0",
            "_view_name": "HTMLView",
            "description": "",
            "description_tooltip": null,
            "layout": "IPY_MODEL_e71620f2668e4fb3921f899cf0120f4f",
            "placeholder": "​",
            "style": "IPY_MODEL_deec2a809cae462bb5ff4d767f6fc9ea",
            "value": "Batches: 100%"
          }
        },
        "2df0c393e79140e3a19c5ced6c213e3f": {
          "model_module": "@jupyter-widgets/controls",
          "model_name": "FloatProgressModel",
          "model_module_version": "1.5.0",
          "state": {
            "_dom_classes": [],
            "_model_module": "@jupyter-widgets/controls",
            "_model_module_version": "1.5.0",
            "_model_name": "FloatProgressModel",
            "_view_count": null,
            "_view_module": "@jupyter-widgets/controls",
            "_view_module_version": "1.5.0",
            "_view_name": "ProgressView",
            "bar_style": "success",
            "description": "",
            "description_tooltip": null,
            "layout": "IPY_MODEL_89398a8ffbc54790b00722209ccc4d4a",
            "max": 32,
            "min": 0,
            "orientation": "horizontal",
            "style": "IPY_MODEL_e0ec39e6218143a4ba4dba97054a07a4",
            "value": 32
          }
        },
        "e6f38d8d51474fd5b85f22e2f567f0da": {
          "model_module": "@jupyter-widgets/controls",
          "model_name": "HTMLModel",
          "model_module_version": "1.5.0",
          "state": {
            "_dom_classes": [],
            "_model_module": "@jupyter-widgets/controls",
            "_model_module_version": "1.5.0",
            "_model_name": "HTMLModel",
            "_view_count": null,
            "_view_module": "@jupyter-widgets/controls",
            "_view_module_version": "1.5.0",
            "_view_name": "HTMLView",
            "description": "",
            "description_tooltip": null,
            "layout": "IPY_MODEL_c3f98b9269be4a17b037a2e9cde7cae9",
            "placeholder": "​",
            "style": "IPY_MODEL_ebcbe312c0574955acbef89a626f9103",
            "value": " 32/32 [00:00&lt;00:00, 139.47it/s]"
          }
        },
        "9a7a2e64e2794ba7af42ca7d833014a7": {
          "model_module": "@jupyter-widgets/base",
          "model_name": "LayoutModel",
          "model_module_version": "1.2.0",
          "state": {
            "_model_module": "@jupyter-widgets/base",
            "_model_module_version": "1.2.0",
            "_model_name": "LayoutModel",
            "_view_count": null,
            "_view_module": "@jupyter-widgets/base",
            "_view_module_version": "1.2.0",
            "_view_name": "LayoutView",
            "align_content": null,
            "align_items": null,
            "align_self": null,
            "border": null,
            "bottom": null,
            "display": null,
            "flex": null,
            "flex_flow": null,
            "grid_area": null,
            "grid_auto_columns": null,
            "grid_auto_flow": null,
            "grid_auto_rows": null,
            "grid_column": null,
            "grid_gap": null,
            "grid_row": null,
            "grid_template_areas": null,
            "grid_template_columns": null,
            "grid_template_rows": null,
            "height": null,
            "justify_content": null,
            "justify_items": null,
            "left": null,
            "margin": null,
            "max_height": null,
            "max_width": null,
            "min_height": null,
            "min_width": null,
            "object_fit": null,
            "object_position": null,
            "order": null,
            "overflow": null,
            "overflow_x": null,
            "overflow_y": null,
            "padding": null,
            "right": null,
            "top": null,
            "visibility": null,
            "width": null
          }
        },
        "e71620f2668e4fb3921f899cf0120f4f": {
          "model_module": "@jupyter-widgets/base",
          "model_name": "LayoutModel",
          "model_module_version": "1.2.0",
          "state": {
            "_model_module": "@jupyter-widgets/base",
            "_model_module_version": "1.2.0",
            "_model_name": "LayoutModel",
            "_view_count": null,
            "_view_module": "@jupyter-widgets/base",
            "_view_module_version": "1.2.0",
            "_view_name": "LayoutView",
            "align_content": null,
            "align_items": null,
            "align_self": null,
            "border": null,
            "bottom": null,
            "display": null,
            "flex": null,
            "flex_flow": null,
            "grid_area": null,
            "grid_auto_columns": null,
            "grid_auto_flow": null,
            "grid_auto_rows": null,
            "grid_column": null,
            "grid_gap": null,
            "grid_row": null,
            "grid_template_areas": null,
            "grid_template_columns": null,
            "grid_template_rows": null,
            "height": null,
            "justify_content": null,
            "justify_items": null,
            "left": null,
            "margin": null,
            "max_height": null,
            "max_width": null,
            "min_height": null,
            "min_width": null,
            "object_fit": null,
            "object_position": null,
            "order": null,
            "overflow": null,
            "overflow_x": null,
            "overflow_y": null,
            "padding": null,
            "right": null,
            "top": null,
            "visibility": null,
            "width": null
          }
        },
        "deec2a809cae462bb5ff4d767f6fc9ea": {
          "model_module": "@jupyter-widgets/controls",
          "model_name": "DescriptionStyleModel",
          "model_module_version": "1.5.0",
          "state": {
            "_model_module": "@jupyter-widgets/controls",
            "_model_module_version": "1.5.0",
            "_model_name": "DescriptionStyleModel",
            "_view_count": null,
            "_view_module": "@jupyter-widgets/base",
            "_view_module_version": "1.2.0",
            "_view_name": "StyleView",
            "description_width": ""
          }
        },
        "89398a8ffbc54790b00722209ccc4d4a": {
          "model_module": "@jupyter-widgets/base",
          "model_name": "LayoutModel",
          "model_module_version": "1.2.0",
          "state": {
            "_model_module": "@jupyter-widgets/base",
            "_model_module_version": "1.2.0",
            "_model_name": "LayoutModel",
            "_view_count": null,
            "_view_module": "@jupyter-widgets/base",
            "_view_module_version": "1.2.0",
            "_view_name": "LayoutView",
            "align_content": null,
            "align_items": null,
            "align_self": null,
            "border": null,
            "bottom": null,
            "display": null,
            "flex": null,
            "flex_flow": null,
            "grid_area": null,
            "grid_auto_columns": null,
            "grid_auto_flow": null,
            "grid_auto_rows": null,
            "grid_column": null,
            "grid_gap": null,
            "grid_row": null,
            "grid_template_areas": null,
            "grid_template_columns": null,
            "grid_template_rows": null,
            "height": null,
            "justify_content": null,
            "justify_items": null,
            "left": null,
            "margin": null,
            "max_height": null,
            "max_width": null,
            "min_height": null,
            "min_width": null,
            "object_fit": null,
            "object_position": null,
            "order": null,
            "overflow": null,
            "overflow_x": null,
            "overflow_y": null,
            "padding": null,
            "right": null,
            "top": null,
            "visibility": null,
            "width": null
          }
        },
        "e0ec39e6218143a4ba4dba97054a07a4": {
          "model_module": "@jupyter-widgets/controls",
          "model_name": "ProgressStyleModel",
          "model_module_version": "1.5.0",
          "state": {
            "_model_module": "@jupyter-widgets/controls",
            "_model_module_version": "1.5.0",
            "_model_name": "ProgressStyleModel",
            "_view_count": null,
            "_view_module": "@jupyter-widgets/base",
            "_view_module_version": "1.2.0",
            "_view_name": "StyleView",
            "bar_color": null,
            "description_width": ""
          }
        },
        "c3f98b9269be4a17b037a2e9cde7cae9": {
          "model_module": "@jupyter-widgets/base",
          "model_name": "LayoutModel",
          "model_module_version": "1.2.0",
          "state": {
            "_model_module": "@jupyter-widgets/base",
            "_model_module_version": "1.2.0",
            "_model_name": "LayoutModel",
            "_view_count": null,
            "_view_module": "@jupyter-widgets/base",
            "_view_module_version": "1.2.0",
            "_view_name": "LayoutView",
            "align_content": null,
            "align_items": null,
            "align_self": null,
            "border": null,
            "bottom": null,
            "display": null,
            "flex": null,
            "flex_flow": null,
            "grid_area": null,
            "grid_auto_columns": null,
            "grid_auto_flow": null,
            "grid_auto_rows": null,
            "grid_column": null,
            "grid_gap": null,
            "grid_row": null,
            "grid_template_areas": null,
            "grid_template_columns": null,
            "grid_template_rows": null,
            "height": null,
            "justify_content": null,
            "justify_items": null,
            "left": null,
            "margin": null,
            "max_height": null,
            "max_width": null,
            "min_height": null,
            "min_width": null,
            "object_fit": null,
            "object_position": null,
            "order": null,
            "overflow": null,
            "overflow_x": null,
            "overflow_y": null,
            "padding": null,
            "right": null,
            "top": null,
            "visibility": null,
            "width": null
          }
        },
        "ebcbe312c0574955acbef89a626f9103": {
          "model_module": "@jupyter-widgets/controls",
          "model_name": "DescriptionStyleModel",
          "model_module_version": "1.5.0",
          "state": {
            "_model_module": "@jupyter-widgets/controls",
            "_model_module_version": "1.5.0",
            "_model_name": "DescriptionStyleModel",
            "_view_count": null,
            "_view_module": "@jupyter-widgets/base",
            "_view_module_version": "1.2.0",
            "_view_name": "StyleView",
            "description_width": ""
          }
        }
      }
    }
  },
  "cells": [
    {
      "cell_type": "code",
      "source": [
        "!pip install -q sentence-transformers xgboost scikit-learn matplotlib seaborn joblib"
      ],
      "metadata": {
        "id": "KQe3FQtZNHdd"
      },
      "execution_count": 156,
      "outputs": []
    },
    {
      "cell_type": "code",
      "source": [
        "import pandas as pd\n",
        "import numpy as np\n",
        "import matplotlib.pyplot as plt\n",
        "import seaborn as sns\n",
        "\n",
        "from sentence_transformers import SentenceTransformer\n",
        "from sklearn.model_selection import train_test_split\n",
        "from sklearn.linear_model import LogisticRegression\n",
        "from sklearn.ensemble import RandomForestClassifier\n",
        "from xgboost import XGBClassifier\n",
        "from sklearn.neural_network import MLPClassifier\n",
        "from sklearn.metrics import classification_report, confusion_matrix, accuracy_score, precision_score, recall_score, f1_score\n",
        "from sklearn.metrics.pairwise import cosine_similarity\n",
        "from sklearn.decomposition import PCA\n",
        "import joblib"
      ],
      "metadata": {
        "id": "x_HQHyXbVUzt"
      },
      "execution_count": 157,
      "outputs": []
    },
    {
      "cell_type": "code",
      "source": [
        "df = pd.read_csv(\"Think_Do_Contradiction_Dataset_Improved.csv\")"
      ],
      "metadata": {
        "id": "TesUc3UHVYF9"
      },
      "execution_count": 158,
      "outputs": []
    },
    {
      "cell_type": "code",
      "source": [
        "# STEP 3: Initialize sentence transformer model\n",
        "embedder = SentenceTransformer(\"paraphrase-MiniLM-L6-v2\")\n",
        "\n",
        "# Encode Intention and Action separately\n",
        "intention_embeddings = embedder.encode(df[\"Intention\"].astype(str).tolist(), show_progress_bar=True)\n",
        "action_embeddings = embedder.encode(df[\"Action\"].astype(str).tolist(), show_progress_bar=True)"
      ],
      "metadata": {
        "colab": {
          "base_uri": "https://localhost:8080/",
          "height": 81,
          "referenced_widgets": [
            "c191b9baa9aa4fa48fb45a2ddf24a44d",
            "1a76358bedf84fe383143c523ae4eb92",
            "b5987be4da17436fa861dafa521e919b",
            "7ffcf9f9262441d8a246ebbd60157801",
            "0e6effdb53df4f1f84f4f15174eecf43",
            "ddae77ef67844ffa9103cd5312ef590a",
            "7a641abe2858465998cc405f98b1429c",
            "7150d42753ea49649dc67f63ee88adae",
            "fe6da2bf7630430db58db3800b482ed1",
            "87f39405369e42d19a0fb154ab7a6029",
            "bc07a6aa76b44331b2f5ef20276ea203",
            "f8c69fcf8e2c4cc4a18b8dca3197007d",
            "5733f39ee90646cca2942452e192836b",
            "2df0c393e79140e3a19c5ced6c213e3f",
            "e6f38d8d51474fd5b85f22e2f567f0da",
            "9a7a2e64e2794ba7af42ca7d833014a7",
            "e71620f2668e4fb3921f899cf0120f4f",
            "deec2a809cae462bb5ff4d767f6fc9ea",
            "89398a8ffbc54790b00722209ccc4d4a",
            "e0ec39e6218143a4ba4dba97054a07a4",
            "c3f98b9269be4a17b037a2e9cde7cae9",
            "ebcbe312c0574955acbef89a626f9103"
          ]
        },
        "id": "t2Io4wU2Vcqu",
        "outputId": "137f24a9-b51c-4285-dc43-c9b383922e35"
      },
      "execution_count": 159,
      "outputs": [
        {
          "output_type": "display_data",
          "data": {
            "text/plain": [
              "Batches:   0%|          | 0/32 [00:00<?, ?it/s]"
            ],
            "application/vnd.jupyter.widget-view+json": {
              "version_major": 2,
              "version_minor": 0,
              "model_id": "c191b9baa9aa4fa48fb45a2ddf24a44d"
            }
          },
          "metadata": {}
        },
        {
          "output_type": "display_data",
          "data": {
            "text/plain": [
              "Batches:   0%|          | 0/32 [00:00<?, ?it/s]"
            ],
            "application/vnd.jupyter.widget-view+json": {
              "version_major": 2,
              "version_minor": 0,
              "model_id": "f8c69fcf8e2c4cc4a18b8dca3197007d"
            }
          },
          "metadata": {}
        }
      ]
    },
    {
      "cell_type": "code",
      "source": [
        "# STEP 4: Combine features:\n",
        "# Use concatenation plus cosine similarity as extra feature\n",
        "cos_sim = np.array([cosine_similarity([i], [a])[0] for i, a in zip(intention_embeddings, action_embeddings)]).reshape(-1,1)\n",
        "\n",
        "# Concatenate intention, action embeddings and cosine similarity feature\n",
        "X = np.hstack([intention_embeddings, action_embeddings, cos_sim])\n",
        "\n",
        "# Labels\n",
        "y = df[\"Label\"].values"
      ],
      "metadata": {
        "id": "AB0dhHGdhW2b"
      },
      "execution_count": 160,
      "outputs": []
    },
    {
      "cell_type": "code",
      "source": [
        "X_train, X_test, y_train, y_test = train_test_split(X, y, test_size=0.2, random_state=42)"
      ],
      "metadata": {
        "id": "IaTf3kNPVgI8"
      },
      "execution_count": 161,
      "outputs": []
    },
    {
      "cell_type": "code",
      "source": [
        "# STEP 6: Define your models with class_weight='balanced' where supported\n",
        "models = {\n",
        "    \"Logistic Regression\": LogisticRegression(max_iter=1000, class_weight='balanced', random_state=42),\n",
        "    \"Random Forest\": RandomForestClassifier(n_estimators=100, class_weight='balanced', random_state=42),\n",
        "    \"XGBoost\": XGBClassifier(eval_metric='logloss', scale_pos_weight=1, random_state=42),  # scale_pos_weight=1 for balanced\n",
        "    \"MLP Classifier\": MLPClassifier(hidden_layer_sizes=(100,), max_iter=300, random_state=42)\n",
        "}"
      ],
      "metadata": {
        "id": "jiO2ygFZhgKJ"
      },
      "execution_count": 162,
      "outputs": []
    },
    {
      "cell_type": "code",
      "source": [
        "# STEP 7: Train, predict and evaluate all models\n",
        "metrics_summary = []\n",
        "for name, model in models.items():\n",
        "    print(f\"\\n===== {name} =====\")\n",
        "    model.fit(X_train, y_train)\n",
        "    y_pred = model.predict(X_test)\n",
        "    print(classification_report(y_test, y_pred, target_names=[\"Align\", \"Contradict\"]))\n",
        "\n",
        "    # Metrics for summary\n",
        "    metrics_summary.append([\n",
        "        name,\n",
        "        accuracy_score(y_test, y_pred),\n",
        "        precision_score(y_test, y_pred, average='weighted'),\n",
        "        recall_score(y_test, y_pred, average='weighted'),\n",
        "        f1_score(y_test, y_pred, average='weighted')\n",
        "    ])\n",
        "\n",
        "    # Confusion Matrix Plot\n",
        "    cm = confusion_matrix(y_test, y_pred)\n",
        "    sns.heatmap(cm, annot=True, fmt='d', cmap='Blues', xticklabels=[\"Align\", \"Contradict\"], yticklabels=[\"Align\", \"Contradict\"])\n",
        "    plt.xlabel(\"Predicted\")\n",
        "    plt.ylabel(\"Actual\")\n",
        "    plt.title(f\"Confusion Matrix: {name}\")\n",
        "    plt.show()"
      ],
      "metadata": {
        "colab": {
          "base_uri": "https://localhost:8080/",
          "height": 1000
        },
        "id": "3x-pH0UKhnhh",
        "outputId": "aa1ce029-ee39-45ef-ad8b-5a777797c5b7"
      },
      "execution_count": 163,
      "outputs": [
        {
          "output_type": "stream",
          "name": "stdout",
          "text": [
            "\n",
            "===== Logistic Regression =====\n",
            "              precision    recall  f1-score   support\n",
            "\n",
            "       Align       0.98      1.00      0.99       111\n",
            "  Contradict       1.00      0.98      0.99        89\n",
            "\n",
            "    accuracy                           0.99       200\n",
            "   macro avg       0.99      0.99      0.99       200\n",
            "weighted avg       0.99      0.99      0.99       200\n",
            "\n"
          ]
        },
        {
          "output_type": "display_data",
          "data": {
            "text/plain": [
              "<Figure size 640x480 with 2 Axes>"
            ],
            "image/png": "[encoded data removed]"
          },
          "metadata": {}
        },
        {
          "output_type": "stream",
          "name": "stdout",
          "text": [
            "\n",
            "===== Random Forest =====\n",
            "              precision    recall  f1-score   support\n",
            "\n",
            "       Align       1.00      1.00      1.00       111\n",
            "  Contradict       1.00      1.00      1.00        89\n",
            "\n",
            "    accuracy                           1.00       200\n",
            "   macro avg       1.00      1.00      1.00       200\n",
            "weighted avg       1.00      1.00      1.00       200\n",
            "\n"
          ]
        },
        {
          "output_type": "display_data",
          "data": {
            "text/plain": [
              "<Figure size 640x480 with 2 Axes>"
            ],
            "image/png": "[encoded data removed]"
          },
          "metadata": {}
        },
        {
          "output_type": "stream",
          "name": "stdout",
          "text": [
            "\n",
            "===== XGBoost =====\n",
            "              precision    recall  f1-score   support\n",
            "\n",
            "       Align       1.00      0.97      0.99       111\n",
            "  Contradict       0.97      1.00      0.98        89\n",
            "\n",
            "    accuracy                           0.98       200\n",
            "   macro avg       0.98      0.99      0.98       200\n",
            "weighted avg       0.99      0.98      0.99       200\n",
            "\n"
          ]
        },
        {
          "output_type": "display_data",
          "data": {
            "text/plain": [
              "<Figure size 640x480 with 2 Axes>"
            ],
            "image/png": "[encoded data removed]"
          },
          "metadata": {}
        },
        {
          "output_type": "stream",
          "name": "stdout",
          "text": [
            "\n",
            "===== MLP Classifier =====\n",
            "              precision    recall  f1-score   support\n",
            "\n",
            "       Align       1.00      1.00      1.00       111\n",
            "  Contradict       1.00      1.00      1.00        89\n",
            "\n",
            "    accuracy                           1.00       200\n",
            "   macro avg       1.00      1.00      1.00       200\n",
            "weighted avg       1.00      1.00      1.00       200\n",
            "\n"
          ]
        },
        {
          "output_type": "display_data",
          "data": {
            "text/plain": [
              "<Figure size 640x480 with 2 Axes>"
            ],
            "image/png": "[encoded data removed]"
          },
          "metadata": {}
        }
      ]
    },
    {
      "cell_type": "code",
      "source": [
        "# STEP 8: Metrics summary table\n",
        "metrics_df = pd.DataFrame(metrics_summary, columns=[\"Model\", \"Accuracy\", \"Precision\", \"Recall\", \"F1\"])\n",
        "print(\"\\n=== Metrics Summary Table ===\")\n",
        "print(metrics_df)"
      ],
      "metadata": {
        "colab": {
          "base_uri": "https://localhost:8080/"
        },
        "id": "byRez8rNhwed",
        "outputId": "c5baf38e-2ce3-4d60-bf7f-4e22cb808278"
      },
      "execution_count": 164,
      "outputs": [
        {
          "output_type": "stream",
          "name": "stdout",
          "text": [
            "\n",
            "=== Metrics Summary Table ===\n",
            "                 Model  Accuracy  Precision  Recall        F1\n",
            "0  Logistic Regression     0.990   0.990177   0.990  0.989988\n",
            "1        Random Forest     1.000   1.000000   1.000  1.000000\n",
            "2              XGBoost     0.985   0.985489   0.985  0.985022\n",
            "3       MLP Classifier     1.000   1.000000   1.000  1.000000\n"
          ]
        }
      ]
    },
    {
      "cell_type": "code",
      "source": [
        "# STEP 9: Feature importance for XGBoost\n",
        "print(\"\\n=== XGBoost Feature Importances ===\")\n",
        "xgb_model = models[\"XGBoost\"]\n",
        "importances = xgb_model.feature_importances_\n",
        "plt.figure(figsize=(14,4))\n",
        "plt.bar(range(len(importances)), importances)\n",
        "plt.title(\"XGBoost Feature Importances\")\n",
        "plt.xlabel(\"Feature Index\")\n",
        "plt.ylabel(\"Importance Score\")\n",
        "plt.show()"
      ],
      "metadata": {
        "colab": {
          "base_uri": "https://localhost:8080/",
          "height": 445
        },
        "id": "-QcAmSRAkZe4",
        "outputId": "c5717e75-fcbf-4458-ef30-ff8da1af81da"
      },
      "execution_count": 165,
      "outputs": [
        {
          "output_type": "stream",
          "name": "stdout",
          "text": [
            "\n",
            "=== XGBoost Feature Importances ===\n"
          ]
        },
        {
          "output_type": "display_data",
          "data": {
            "text/plain": [
              "<Figure size 1400x400 with 1 Axes>"
            ],
            "image/png": "[encoded data removed]"
          },
          "metadata": {}
        }
      ]
    },
    {
      "cell_type": "code",
      "source": [
        "# STEP 10: Error Analysis – print some misclassified examples (XGBoost)\n",
        "y_pred_xgb = xgb_model.predict(X_test)\n",
        "misclassified_idx = np.where(y_pred_xgb != y_test)[0]\n",
        "print(\"\\n=== Error Analysis: Some misclassified examples (XGBoost) ===\")\n",
        "for idx in misclassified_idx[:10]:\n",
        "    original_idx = y_test.index[idx] if hasattr(y_test, 'index') else idx\n",
        "    print(\"Intention:\", df.iloc[original_idx][\"Intention\"])\n",
        "    print(\"Action:\", df.iloc[original_idx][\"Action\"])\n",
        "    print(\"True Label:\", \"Align\" if y_test[idx]==0 else \"Contradict\")\n",
        "    print(\"Predicted:\", \"Align\" if y_pred_xgb[idx]==0 else \"Contradict\")\n",
        "    print(\"---\")"
      ],
      "metadata": {
        "colab": {
          "base_uri": "https://localhost:8080/"
        },
        "id": "al1zlmoDh2ji",
        "outputId": "484b09ae-d183-4d83-ec1a-eb0d714e9274"
      },
      "execution_count": 166,
      "outputs": [
        {
          "output_type": "stream",
          "name": "stdout",
          "text": [
            "\n",
            "=== Error Analysis: Some misclassified examples (XGBoost) ===\n",
            "Intention: I will complete task16.\n",
            "Action: I completed task16.\n",
            "True Label: Align\n",
            "Predicted: Contradict\n",
            "---\n",
            "Intention: I will complete task34.\n",
            "Action: I did not complete task34.\n",
            "True Label: Align\n",
            "Predicted: Contradict\n",
            "---\n",
            "Intention: I won’t complete task24.\n",
            "Action: I did not complete task24.\n",
            "True Label: Align\n",
            "Predicted: Contradict\n",
            "---\n"
          ]
        }
      ]
    },
    {
      "cell_type": "code",
      "source": [
        "# STEP 11: Visualize Embeddings (PCA)\n",
        "pca = PCA(n_components=2)\n",
        "X_pca = pca.fit_transform(X)\n",
        "plt.figure(figsize=(8,6))\n",
        "sns.scatterplot(x=X_pca[:,0], y=X_pca[:,1], hue=df[\"Label\"].map({0:\"Align\",1:\"Contradict\"}), palette=\"Set1\")\n",
        "plt.title(\"Embedding Space PCA: Align vs. Contradict\")\n",
        "plt.show()"
      ],
      "metadata": {
        "colab": {
          "base_uri": "https://localhost:8080/",
          "height": 545
        },
        "id": "_exe9NOAh63g",
        "outputId": "b988f846-4e1d-4835-8cc1-646c6c20ddd0"
      },
      "execution_count": 167,
      "outputs": [
        {
          "output_type": "display_data",
          "data": {
            "text/plain": [
              "<Figure size 800x600 with 1 Axes>"
            ],
            "image/png": "[encoded data removed]"
          },
          "metadata": {}
        }
      ]
    },
    {
      "cell_type": "code",
      "source": [
        "# STEP 12: Save best model (XGBoost)\n",
        "joblib.dump(xgb_model, \"xgb_model.pkl\")\n",
        "print(\"Saved XGBoost model as xgb_model.pkl\")"
      ],
      "metadata": {
        "colab": {
          "base_uri": "https://localhost:8080/"
        },
        "id": "TQA-VUGCkqNa",
        "outputId": "762b3e6c-b9fc-42c8-ec22-ca9df4f69026"
      },
      "execution_count": 168,
      "outputs": [
        {
          "output_type": "stream",
          "name": "stdout",
          "text": [
            "Saved XGBoost model as xgb_model.pkl\n"
          ]
        }
      ]
    },
    {
      "cell_type": "code",
      "source": [
        "# STEP 4: Train and evaluate\n",
        "for name, model in models.items():\n",
        "    print(f\"\\n===== {name} =====\")\n",
        "    model.fit(X_train_aug, y_train)\n",
        "    y_pred = model.predict(X_test_aug)\n",
        "    print(classification_report(y_test, y_pred, target_names=[\"Align\", \"Contradict\"]))"
      ],
      "metadata": {
        "colab": {
          "base_uri": "https://localhost:8080/"
        },
        "id": "kyx5CrGAW4Od",
        "outputId": "ffe61062-53bf-4549-e4f8-21fe4ae850ce"
      },
      "execution_count": 169,
      "outputs": [
        {
          "output_type": "stream",
          "name": "stdout",
          "text": [
            "\n",
            "===== Logistic Regression =====\n",
            "              precision    recall  f1-score   support\n",
            "\n",
            "       Align       0.91      0.81      0.86       111\n",
            "  Contradict       0.79      0.90      0.84        89\n",
            "\n",
            "    accuracy                           0.85       200\n",
            "   macro avg       0.85      0.85      0.85       200\n",
            "weighted avg       0.86      0.85      0.85       200\n",
            "\n",
            "\n",
            "===== Random Forest =====\n",
            "              precision    recall  f1-score   support\n",
            "\n",
            "       Align       0.98      0.99      0.99       111\n",
            "  Contradict       0.99      0.98      0.98        89\n",
            "\n",
            "    accuracy                           0.98       200\n",
            "   macro avg       0.99      0.98      0.98       200\n",
            "weighted avg       0.99      0.98      0.98       200\n",
            "\n",
            "\n",
            "===== XGBoost =====\n",
            "              precision    recall  f1-score   support\n",
            "\n",
            "       Align       0.98      0.99      0.99       111\n",
            "  Contradict       0.99      0.98      0.98        89\n",
            "\n",
            "    accuracy                           0.98       200\n",
            "   macro avg       0.99      0.98      0.98       200\n",
            "weighted avg       0.99      0.98      0.98       200\n",
            "\n",
            "\n",
            "===== MLP Classifier =====\n",
            "              precision    recall  f1-score   support\n",
            "\n",
            "       Align       1.00      1.00      1.00       111\n",
            "  Contradict       1.00      1.00      1.00        89\n",
            "\n",
            "    accuracy                           1.00       200\n",
            "   macro avg       1.00      1.00      1.00       200\n",
            "weighted avg       1.00      1.00      1.00       200\n",
            "\n"
          ]
        }
      ]
    },
    {
      "cell_type": "code",
      "source": [
        "# Kill all ngrok processes (and Streamlit if needed)\n",
        "!pkill ngrok\n",
        "!pkill streamlit\n",
        "!fuser -k 8501/tcp || true\n"
      ],
      "metadata": {
        "colab": {
          "base_uri": "https://localhost:8080/"
        },
        "id": "hsS1lXcGmP8v",
        "outputId": "e57dd475-5504-438b-cdc9-f7c4b21dcd36"
      },
      "execution_count": 170,
      "outputs": [
        {
          "output_type": "stream",
          "name": "stderr",
          "text": [
            "WARNING:pyngrok.process.ngrok:t=2025-08-16T07:25:27+0000 lvl=warn msg=\"Stopping forwarder\" name=http-8501-4d278281-0e13-413c-9c3c-3d8488e8b64d acceptErr=\"failed to accept connection: Listener closed\"\n",
            "WARNING:pyngrok.process.ngrok:t=2025-08-16T07:25:27+0000 lvl=warn msg=\"Error restarting forwarder\" name=http-8501-4d278281-0e13-413c-9c3c-3d8488e8b64d err=\"failed to start tunnel: session closed\"\n",
            "WARNING:pyngrok.process.ngrok:t=2025-08-16T07:25:27+0000 lvl=warn msg=\"Stopping forwarder\" name=http-8501-679c076d-a31a-4696-ae73-e4fdf5ca44dc acceptErr=\"failed to accept connection: Listener closed\"\n",
            "WARNING:pyngrok.process.ngrok:t=2025-08-16T07:25:27+0000 lvl=warn msg=\"Error restarting forwarder\" name=http-8501-679c076d-a31a-4696-ae73-e4fdf5ca44dc err=\"failed to start tunnel: session closed\"\n"
          ]
        },
        {
          "output_type": "stream",
          "name": "stdout",
          "text": [
            "8501/tcp:            41176\n"
          ]
        }
      ]
    },
    {
      "cell_type": "code",
      "source": [
        "# Install required packages quietly\n",
        "!pip install -q streamlit pyngrok sentence-transformers xgboost scikit-learn joblib"
      ],
      "metadata": {
        "id": "pBNVK0fGlwEq"
      },
      "execution_count": 171,
      "outputs": []
    },
    {
      "cell_type": "code",
      "source": [
        "import joblib\n",
        "import os\n",
        "import time\n",
        "from pyngrok import ngrok\n",
        "\n",
        "# Save your trained XGBoost model\n",
        "joblib.dump(models[\"XGBoost\"], \"xgb_model.pkl\")\n",
        "\n",
        "# Write the updated app.py code\n",
        "app_code = \"\"\"\n",
        "import streamlit as st\n",
        "import numpy as np\n",
        "from sentence_transformers import SentenceTransformer\n",
        "from sklearn.metrics.pairwise import cosine_similarity\n",
        "import joblib\n",
        "\n",
        "# Load trained model and embedder\n",
        "model = joblib.load(\"xgb_model.pkl\")\n",
        "embedder = SentenceTransformer(\"all-MiniLM-L6-v2\")\n",
        "\n",
        "st.title(\"🤖 Intention vs. Action Contradiction Detector\")\n",
        "st.write(\"Check if someone's action contradicts what they said they would do.\")\n",
        "\n",
        "# Input text boxes\n",
        "intention = st.text_input(\"🧠 What was said (Intention)?\", \"I will avoid junk food today.\")\n",
        "action = st.text_input(\"💬 What was done (Action)?\", \"I had pizza and soda for lunch.\")\n",
        "\n",
        "if st.button(\"Predict\"):\n",
        "    # Get embeddings as 1D arrays\n",
        "    intention_emb = embedder.encode(intention)    # shape: (embedding_dim,)\n",
        "    action_emb = embedder.encode(action)          # shape: (embedding_dim,)\n",
        "\n",
        "    # Reshape embeddings for cosine similarity calculation\n",
        "    intention_emb_2d = intention_emb.reshape(1, -1)\n",
        "    action_emb_2d = action_emb.reshape(1, -1)\n",
        "    cos_sim = cosine_similarity(intention_emb_2d, action_emb_2d)[0][0]  # scalar\n",
        "\n",
        "        # Concatenate features to match training (384 + 1 = 385)\n",
        "    X = np.concatenate([\n",
        "        intention_emb.ravel(),\n",
        "        np.array([cos_sim])\n",
        "    ])\n",
        "\n",
        "    # Reshape for model input\n",
        "    X = X.reshape(1, -1)\n",
        "\n",
        "\n",
        "    prediction = model.predict(X)[0]\n",
        "    proba = model.predict_proba(X)\n",
        "    confidence = np.max(proba) * 100\n",
        "\n",
        "    result = \"✅ Aligned\" if prediction == 0 else \"❌ Contradiction\"\n",
        "    st.subheader(\"Prediction:\")\n",
        "    st.success(f\"{result} (Confidence: {confidence:.1f}%)\")\n",
        "\"\"\"\n",
        "\n",
        "with open(\"app.py\", \"w\") as f:\n",
        "    f.write(app_code)\n",
        "\n",
        "# Remove existing ngrok config if any\n",
        "os.system(\"rm -f /root/.config/ngrok/ngrok.yml\")\n",
        "\n",
        "# Add your ngrok authtoken (replace with your actual authtoken)\n",
        "os.system(\"ngrok config add-authtoken 31MABU0Ji5VPKtgKSSpDljTZbU3_3uGGRbk1xwYtuzghBMxVg\")\n",
        "\n",
        "# Kill any process running on port 8501 (Streamlit default port)\n",
        "os.system(\"fuser -k 8501/tcp || true\")\n",
        "\n",
        "# Run Streamlit app in background and redirect logs\n",
        "os.system(\"streamlit run app.py &> logs.txt &\")\n",
        "\n",
        "# Wait for Streamlit app to start\n",
        "time.sleep(5)\n",
        "\n",
        "# Open ngrok tunnel for public access\n",
        "public_url = ngrok.connect(8501, \"http\")\n",
        "\n",
        "print(f\"🌐 Your Streamlit app is live at: {public_url}\")\n"
      ],
      "metadata": {
        "colab": {
          "base_uri": "https://localhost:8080/"
        },
        "id": "I5xnmNfBlyiI",
        "outputId": "e142f58b-d8b3-40e3-b314-05b95d99ac44"
      },
      "execution_count": 172,
      "outputs": [
        {
          "output_type": "stream",
          "name": "stdout",
          "text": [
            "🌐 Your Streamlit app is live at: NgrokTunnel: \"https://9018aace04c1.ngrok-free.app\" -> \"http://localhost:8501\"\n"
          ]
        }
      ]
    }
  ]
}